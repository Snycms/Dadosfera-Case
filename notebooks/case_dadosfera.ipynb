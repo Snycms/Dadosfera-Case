{
 "cells": [
  {
   "cell_type": "code",
   "execution_count": null,
   "id": "1477d1cb-1d15-4a1e-869a-2fe1f47ec85e",
   "metadata": {},
   "outputs": [],
   "source": []
  },
  {
   "cell_type": "code",
   "execution_count": 1,
   "id": "72b68a99-6ba3-48ac-ba77-b25f4285b024",
   "metadata": {},
   "outputs": [],
   "source": [
    "import numpy as np\n",
    "import pandas as pd\n",
    "import seaborn as sns\n",
    "import matplotlib.pyplot as plt\n",
    "import csv\n"
   ]
  },
  {
   "cell_type": "code",
   "execution_count": 6,
   "id": "8d094de1-08ef-4b74-a7e8-befbe4a2bd95",
   "metadata": {},
   "outputs": [
    {
     "data": {
      "text/plain": [
       "<bound method NDFrame.head of          ��t  Unnamed: 1  Unnamed: 2  Unnamed: 3  Unnamed: 4  Unnamed: 5  \\\n",
       "0        NaN         NaN         NaN         NaN         NaN         NaN   \n",
       "1        NaN         NaN         NaN         NaN         NaN         NaN   \n",
       "2        NaN         NaN         NaN         NaN         NaN         NaN   \n",
       "3        NaN         NaN         NaN         NaN         NaN         NaN   \n",
       "4        NaN         NaN         NaN         NaN         NaN         NaN   \n",
       "...      ...         ...         ...         ...         ...         ...   \n",
       "1035523  NaN         NaN         NaN         NaN         NaN         NaN   \n",
       "1035524  NaN         NaN         NaN         NaN         NaN         NaN   \n",
       "1035525  NaN         NaN         NaN         NaN         NaN         NaN   \n",
       "1035526  NaN         NaN         NaN         NaN         NaN         NaN   \n",
       "1035527  NaN         NaN         NaN         NaN         NaN         NaN   \n",
       "\n",
       "         Unnamed: 6  \n",
       "0               NaN  \n",
       "1               NaN  \n",
       "2               NaN  \n",
       "3               NaN  \n",
       "4               NaN  \n",
       "...             ...  \n",
       "1035523         NaN  \n",
       "1035524         NaN  \n",
       "1035525         NaN  \n",
       "1035526         NaN  \n",
       "1035527         NaN  \n",
       "\n",
       "[1035528 rows x 7 columns]>"
      ]
     },
     "execution_count": 6,
     "metadata": {},
     "output_type": "execute_result"
    }
   ],
   "source": [
    "\n",
    "df = pd.read_csv('all_tide_data.csv')\n",
    "df.rename(columns=df.iloc[0])\n",
    "df.head"
   ]
  },
  {
   "cell_type": "code",
   "execution_count": null,
   "id": "17b0d769-c6ff-4add-b37d-694e28d4341a",
   "metadata": {},
   "outputs": [],
   "source": []
  },
  {
   "cell_type": "code",
   "execution_count": null,
   "id": "ff99e282-4ee4-4161-8823-29be15fa5bff",
   "metadata": {},
   "outputs": [],
   "source": []
  }
 ],
 "metadata": {
  "kernelspec": {
   "display_name": "Python 3",
   "language": "python",
   "name": "python3"
  },
  "language_info": {
   "codemirror_mode": {
    "name": "ipython",
    "version": 3
   },
   "file_extension": ".py",
   "mimetype": "text/x-python",
   "name": "python",
   "nbconvert_exporter": "python",
   "pygments_lexer": "ipython3",
   "version": "3.8.8"
  }
 },
 "nbformat": 4,
 "nbformat_minor": 5
}
