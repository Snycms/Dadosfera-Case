{
 "cells": [
  {
   "cell_type": "raw",
   "id": "70f64f17",
   "metadata": {},
   "source": [
    "---\n",
    "title: \"matplotlib demo\"\n",
    "format:\n",
    "  html:\n",
    "    code-fold: true\n",
    "jupyter: python3cls\n",
    "---"
   ]
  },
  {
   "cell_type": "markdown",
   "id": "46f70784",
   "metadata": {},
   "source": [
    "# *Solução do case de estágio* \n",
    "\n",
    "\n",
    "# Index\n",
    " 1. [Visão Geral](#visao-geral)\n",
    " 2. [Modelagem Solução](#modelagem-solucao) \n",
    " 3. [Desenvolvimento](#desenvolvimento)<br>\n",
    " 3.1. [Preparaçao dos dados](#preparacao)<br>\n",
    " 3.2. [Queries](#queries)<br>\n",
    " 3.3  [Wave lengh Correlation](#correlation)\n",
    "\n",
    "\n",
    " <h1 id=\"visao-geral\">Visão Geral</h1>\n",
    "\n",
    " <h1 id=\"preparacao-dados\">Preparação dos dados</h1>\n",
    "\n",
    " Primeiro foi feito o download de todos os arquivos e eles foram salvos nas seguintes pastas\n",
    " \n",
    " ./resources/tides*\n",
    " ./resources/waves*\n",
    "\n",
    "* Nota: Os arquivos .csv foram adicionados no .gitignore para evitar o envio para o GitHub.\n",
    "\n",
    "\n",
    "Em seguida, foram unidos todos os arquivos em 1 só, para facilitar o carregamento e a utilização, utilizando o código a seguir:\n",
    "\n",
    "```sh\n",
    "awk '(NR == 1) || (FNR > 1)' ./resources/Tides/*.csv > ./resources/files/final/tide_data.csv\n",
    "```\n",
    "\n",
    "Feito importamos o dado para uma tabela do BigQuery\n",
    "\n",
    "```sh\n",
    "gsutil cp ./resources/files/final/tide_data.csv gs://case-estagio/dadosfera/\n",
    "```\n",
    "\n",
    "Depois importamos para uma tabela no BigQuery\n",
    "\n",
    "```sh\n",
    "bq load --source_format=CSV --skip_leading_rows=1 --replace=true dadosfera.tide_data gs://case-estagio/dadosfera/tide_data.csv\n",
    "```\n",
    "\n",
    "* O mesmo procedimento foi realizado para os dados de waves\n",
    "\n",
    "Após os dados carregados, iremos utilizar as tabelas para realização das consultas SQL, como mostrado na imagem abaixo:\n",
    "![](Images/tide_data.png)\n",
    "Tide table\n",
    "\n",
    "![](Images/waves_data.png)\n",
    "\n",
    "Waves table\n",
    "\n",
    " <h1 id=\"desenvolvimento\">Desenvolvimento</h1>\n",
    " \n",
    " <h2 id=\"queries\">Queries</h2>\n",
    " As queries abaixo foram utilizadas para responder as questões 1 e 2\n",
    "\n",
    "```sh\n",
    "WITH  min_temperature_per_station AS (\n",
    "    SELECT \n",
    "        MIN(sea_temperature) AS min_temperature,\n",
    "        station_id\n",
    "    FROM `case-estagio.dadosfera.waves_data`\n",
    "    GROUP BY station_id\n",
    "    )\n",
    "SELECT \n",
    "    wave_data.station_id,\n",
    "    min_temperature AS lowest_temperature,\n",
    "    EXTRACT(MONTH from event_time) AS occur_month\n",
    "FROM min_temperature_per_station\n",
    "JOIN `case-estagio.dadosfera.waves_data` AS wave_data \n",
    "    ON wave_data.sea_temperature = min_temperature_per_station.min_temperature\n",
    "    AND wave_data.station_id = min_temperature_per_station.station_id\n",
    "    GROUP BY station_id, lowest_temperature, occur_month\n",
    "```\n",
    "\n",
    "Query 1- Max Water Level\n",
    "```sh\n",
    "WITH  max_watter_level AS (\n",
    "    SELECT \n",
    "        MAX(water_level_lat) AS max_watter_level\n",
    "    FROM `case-estagio.dadosfera.tide_data`\n",
    "    WHERE IS_NAN(water_level_lat) = false /* Alguns registros não possuiam o valor, por isso removemos os Not a Number (NaN)*/   \n",
    "    )\n",
    "SELECT \n",
    "    latitude,\n",
    "    longitude,\n",
    "    max_watter_level AS watter_level,\n",
    "    EXTRACT(MONTH from event_time) AS occur_month\n",
    "FROM max_watter_level\n",
    "JOIN `case-estagio.dadosfera.tide_data` AS tides_data \n",
    "    ON tides_data.water_level_lat = max_watter_level.max_watter_level\n",
    "```\n",
    "\n",
    "\n",
    "Sendo os resultados encontrados mostrados abaixo:\n",
    " <h4 id=\"resultados-1\">Resultados Questões 1</h4>\n",
    "\n",
    "![](Images/query_biggest_water_level.png)\n",
    "\n",
    "\n",
    "O maior nível de água acontece na latitude = `53.585` e longitude = `-6.1081` no mês de Fevereiro.\n",
    "\n",
    " \n",
    "  <h4 id=\"resultados-2\">Resultados Questões 2</h4>\n",
    "\n",
    "<img src=\"Images/query_lowest_temperature.png\" alt=\"\">\n",
    "\n",
    "\n",
    "A menor temperatura para cada uma das regiões é mostrada na imagem acima, e todas elas são no mês de Agosto.\n",
    "\n",
    "\n",
    " \n",
    " <h2 id=\"correlation\">Correlação</h2>\n",
    "\n",
    " Finalizando os quesitos básicos, faremos a análise de correlação entre a altura das ondas e temperatura do mar. \n",
    " \n",
    " \n",
    " Existem duas possibilidades para analisar a correlação entre duas variáveis: o teste de Spearman, usado para variáveia discretas e o teste de Pearson usado para variáveis contínuas. \n",
    "\n",
    " Os dados utilizado para a análise são contínuos, portanto o teste de Pearson é o ideal para indicar como a altura das ondas e a temperatura do mar estão relacionadas.\n",
    " \n",
    " Como muitos valores são NaN, faremos a análise apenas para a estação AMETS Berth A Wave Buoy, que contém um conjunto de dados robusto e completo para o cálculo, como mostrado no notebook abaixo.\n",
    "\n"
   ]
  },
  {
   "cell_type": "markdown",
   "id": "151d2dfb-ac27-411c-86f5-fa1afb6dc33f",
   "metadata": {},
   "source": [
    "<h1>Análise de correlação</h1>\n",
    "\n",
    "Neste arquivo faremos a análise de correlação entre a altura das ondas e a temperatura do oceano.\n",
    "\n",
    "Importaremos todas as bibliotecas necessárias:"
   ]
  },
  {
   "cell_type": "code",
   "execution_count": 54,
   "id": "72b68a99-6ba3-48ac-ba77-b25f4285b024",
   "metadata": {
    "tags": []
   },
   "outputs": [],
   "source": [
    "import numpy as np\n",
    "import pandas as pd\n",
    "import seaborn as sns\n",
    "import matplotlib.pyplot as plt\n",
    "import csv\n",
    "from scipy.stats.stats import pearsonr\n"
   ]
  },
  {
   "cell_type": "markdown",
   "id": "a43ca1ad-768b-4556-bd7e-434050a225e8",
   "metadata": {},
   "source": [
    "Faremos a leitura do arquivo CSV:"
   ]
  },
  {
   "cell_type": "code",
   "execution_count": 45,
   "id": "8d094de1-08ef-4b74-a7e8-befbe4a2bd95",
   "metadata": {},
   "outputs": [
    {
     "data": {
      "text/html": [
       "<div>\n",
       "<style scoped>\n",
       "    .dataframe tbody tr th:only-of-type {\n",
       "        vertical-align: middle;\n",
       "    }\n",
       "\n",
       "    .dataframe tbody tr th {\n",
       "        vertical-align: top;\n",
       "    }\n",
       "\n",
       "    .dataframe thead th {\n",
       "        text-align: right;\n",
       "    }\n",
       "</style>\n",
       "<table border=\"1\" class=\"dataframe\">\n",
       "  <thead>\n",
       "    <tr style=\"text-align: right;\">\n",
       "      <th></th>\n",
       "      <th>longitude</th>\n",
       "      <th>latitude</th>\n",
       "      <th>time</th>\n",
       "      <th>station_id</th>\n",
       "      <th>PeakPeriod</th>\n",
       "      <th>PeakDirection</th>\n",
       "      <th>UpcrossPeriod</th>\n",
       "      <th>SignificantWaveHeight</th>\n",
       "      <th>Hmax</th>\n",
       "      <th>SeaTemperature</th>\n",
       "      <th>MeanCurSpeed</th>\n",
       "      <th>MeanCurDirTo</th>\n",
       "    </tr>\n",
       "  </thead>\n",
       "  <tbody>\n",
       "    <tr>\n",
       "      <th>0</th>\n",
       "      <td>-10.29737</td>\n",
       "      <td>54.2753</td>\n",
       "      <td>2022-08-11T17:35:00Z</td>\n",
       "      <td>AMETS Berth A Wave Buoy</td>\n",
       "      <td>10.0</td>\n",
       "      <td>285.5</td>\n",
       "      <td>7.018</td>\n",
       "      <td>176.0</td>\n",
       "      <td>NaN</td>\n",
       "      <td>16.95</td>\n",
       "      <td>NaN</td>\n",
       "      <td>NaN</td>\n",
       "    </tr>\n",
       "    <tr>\n",
       "      <th>1</th>\n",
       "      <td>-10.29737</td>\n",
       "      <td>54.2753</td>\n",
       "      <td>2022-08-11T18:05:00Z</td>\n",
       "      <td>AMETS Berth A Wave Buoy</td>\n",
       "      <td>10.0</td>\n",
       "      <td>282.7</td>\n",
       "      <td>6.452</td>\n",
       "      <td>144.0</td>\n",
       "      <td>NaN</td>\n",
       "      <td>16.95</td>\n",
       "      <td>NaN</td>\n",
       "      <td>NaN</td>\n",
       "    </tr>\n",
       "    <tr>\n",
       "      <th>2</th>\n",
       "      <td>-10.29737</td>\n",
       "      <td>54.2753</td>\n",
       "      <td>2022-08-11T18:35:00Z</td>\n",
       "      <td>AMETS Berth A Wave Buoy</td>\n",
       "      <td>10.0</td>\n",
       "      <td>277.0</td>\n",
       "      <td>6.897</td>\n",
       "      <td>161.0</td>\n",
       "      <td>NaN</td>\n",
       "      <td>16.85</td>\n",
       "      <td>NaN</td>\n",
       "      <td>NaN</td>\n",
       "    </tr>\n",
       "    <tr>\n",
       "      <th>3</th>\n",
       "      <td>-10.29737</td>\n",
       "      <td>54.2753</td>\n",
       "      <td>2022-08-11T19:05:00Z</td>\n",
       "      <td>AMETS Berth A Wave Buoy</td>\n",
       "      <td>10.0</td>\n",
       "      <td>285.5</td>\n",
       "      <td>7.018</td>\n",
       "      <td>170.0</td>\n",
       "      <td>NaN</td>\n",
       "      <td>16.85</td>\n",
       "      <td>NaN</td>\n",
       "      <td>NaN</td>\n",
       "    </tr>\n",
       "    <tr>\n",
       "      <th>4</th>\n",
       "      <td>-10.29737</td>\n",
       "      <td>54.2753</td>\n",
       "      <td>2022-08-11T19:35:00Z</td>\n",
       "      <td>AMETS Berth A Wave Buoy</td>\n",
       "      <td>10.0</td>\n",
       "      <td>288.3</td>\n",
       "      <td>6.780</td>\n",
       "      <td>157.0</td>\n",
       "      <td>NaN</td>\n",
       "      <td>16.80</td>\n",
       "      <td>NaN</td>\n",
       "      <td>NaN</td>\n",
       "    </tr>\n",
       "  </tbody>\n",
       "</table>\n",
       "</div>"
      ],
      "text/plain": [
       "   longitude  latitude                  time               station_id  \\\n",
       "0  -10.29737   54.2753  2022-08-11T17:35:00Z  AMETS Berth A Wave Buoy   \n",
       "1  -10.29737   54.2753  2022-08-11T18:05:00Z  AMETS Berth A Wave Buoy   \n",
       "2  -10.29737   54.2753  2022-08-11T18:35:00Z  AMETS Berth A Wave Buoy   \n",
       "3  -10.29737   54.2753  2022-08-11T19:05:00Z  AMETS Berth A Wave Buoy   \n",
       "4  -10.29737   54.2753  2022-08-11T19:35:00Z  AMETS Berth A Wave Buoy   \n",
       "\n",
       "   PeakPeriod  PeakDirection  UpcrossPeriod  SignificantWaveHeight  Hmax  \\\n",
       "0        10.0          285.5          7.018                  176.0   NaN   \n",
       "1        10.0          282.7          6.452                  144.0   NaN   \n",
       "2        10.0          277.0          6.897                  161.0   NaN   \n",
       "3        10.0          285.5          7.018                  170.0   NaN   \n",
       "4        10.0          288.3          6.780                  157.0   NaN   \n",
       "\n",
       "   SeaTemperature  MeanCurSpeed  MeanCurDirTo  \n",
       "0           16.95           NaN           NaN  \n",
       "1           16.95           NaN           NaN  \n",
       "2           16.85           NaN           NaN  \n",
       "3           16.85           NaN           NaN  \n",
       "4           16.80           NaN           NaN  "
      ]
     },
     "execution_count": 45,
     "metadata": {},
     "output_type": "execute_result"
    }
   ],
   "source": [
    "df = pd.read_csv('C:\\\\Users\\\\sanny\\\\Documents\\\\dev\\\\ps\\\\dadosfera_case\\\\notebooks\\\\all_waves_data.csv', \n",
    "                 warn_bad_lines=True,\n",
    "                 error_bad_lines=False,\n",
    "                 encoding= 'UTF-16')\n",
    "df.head()\n",
    "    \n"
   ]
  },
  {
   "cell_type": "markdown",
   "id": "4c1c9d7f-9f51-4068-9632-d0efeeaef3ef",
   "metadata": {},
   "source": [
    "Precisamos procurar por valores nulos para que a correlação não tenha um valor enviesado."
   ]
  },
  {
   "cell_type": "code",
   "execution_count": 46,
   "id": "9bf09ef7-25f4-40ec-a7f5-783cc33d38ea",
   "metadata": {},
   "outputs": [
    {
     "data": {
      "text/plain": [
       "(634, 12)"
      ]
     },
     "execution_count": 46,
     "metadata": {},
     "output_type": "execute_result"
    }
   ],
   "source": [
    "df.shape"
   ]
  },
  {
   "cell_type": "code",
   "execution_count": 101,
   "id": "17b0d769-c6ff-4add-b37d-694e28d4341a",
   "metadata": {},
   "outputs": [
    {
     "data": {
      "text/html": [
       "<div>\n",
       "<style scoped>\n",
       "    .dataframe tbody tr th:only-of-type {\n",
       "        vertical-align: middle;\n",
       "    }\n",
       "\n",
       "    .dataframe tbody tr th {\n",
       "        vertical-align: top;\n",
       "    }\n",
       "\n",
       "    .dataframe thead th {\n",
       "        text-align: right;\n",
       "    }\n",
       "</style>\n",
       "<table border=\"1\" class=\"dataframe\">\n",
       "  <thead>\n",
       "    <tr style=\"text-align: right;\">\n",
       "      <th></th>\n",
       "      <th>station_id</th>\n",
       "      <th>SignificantWaveHeight</th>\n",
       "      <th>SeaTemperature</th>\n",
       "    </tr>\n",
       "  </thead>\n",
       "  <tbody>\n",
       "    <tr>\n",
       "      <th>0</th>\n",
       "      <td>AMETS Berth A Wave Buoy</td>\n",
       "      <td>176.0</td>\n",
       "      <td>16.95</td>\n",
       "    </tr>\n",
       "    <tr>\n",
       "      <th>1</th>\n",
       "      <td>AMETS Berth A Wave Buoy</td>\n",
       "      <td>144.0</td>\n",
       "      <td>16.95</td>\n",
       "    </tr>\n",
       "    <tr>\n",
       "      <th>2</th>\n",
       "      <td>AMETS Berth A Wave Buoy</td>\n",
       "      <td>161.0</td>\n",
       "      <td>16.85</td>\n",
       "    </tr>\n",
       "    <tr>\n",
       "      <th>3</th>\n",
       "      <td>AMETS Berth A Wave Buoy</td>\n",
       "      <td>170.0</td>\n",
       "      <td>16.85</td>\n",
       "    </tr>\n",
       "    <tr>\n",
       "      <th>4</th>\n",
       "      <td>AMETS Berth A Wave Buoy</td>\n",
       "      <td>157.0</td>\n",
       "      <td>16.80</td>\n",
       "    </tr>\n",
       "  </tbody>\n",
       "</table>\n",
       "</div>"
      ],
      "text/plain": [
       "                station_id  SignificantWaveHeight  SeaTemperature\n",
       "0  AMETS Berth A Wave Buoy                  176.0           16.95\n",
       "1  AMETS Berth A Wave Buoy                  144.0           16.95\n",
       "2  AMETS Berth A Wave Buoy                  161.0           16.85\n",
       "3  AMETS Berth A Wave Buoy                  170.0           16.85\n",
       "4  AMETS Berth A Wave Buoy                  157.0           16.80"
      ]
     },
     "execution_count": 101,
     "metadata": {},
     "output_type": "execute_result"
    }
   ],
   "source": [
    "\n",
    "\n",
    "height_temperature = df[['station_id','SignificantWaveHeight', 'SeaTemperature']]\n",
    "\n",
    "height_temperature.head(5)"
   ]
  },
  {
   "cell_type": "code",
   "execution_count": 102,
   "id": "ec02159a-0d61-4101-9b12-8c0d21f0b6d0",
   "metadata": {},
   "outputs": [
    {
     "data": {
      "text/plain": [
       "479"
      ]
     },
     "execution_count": 102,
     "metadata": {},
     "output_type": "execute_result"
    }
   ],
   "source": [
    "height_temperature.SignificantWaveHeight.isna().sum()"
   ]
  },
  {
   "cell_type": "markdown",
   "id": "20a6face-65b4-48f8-90be-bd9418f4777f",
   "metadata": {},
   "source": [
    "Como de 634 medições 479 são valores nulos, vamos procurar um padrão onde os valores nulos são encontrados."
   ]
  },
  {
   "cell_type": "code",
   "execution_count": 84,
   "id": "44b1eb73-71db-4e6b-9a70-e55f5185ce0e",
   "metadata": {},
   "outputs": [
    {
     "data": {
      "text/plain": [
       "0"
      ]
     },
     "execution_count": 84,
     "metadata": {},
     "output_type": "execute_result"
    }
   ],
   "source": [
    "filtred_AMETS = height_temperature.query('station_id == \"AMETS Berth A Wave Buoy\" ')\n",
    "filtred_AMETS.SignificantWaveHeight.isna().sum()"
   ]
  },
  {
   "cell_type": "code",
   "execution_count": 87,
   "id": "bf80817f-7034-415e-aa45-6a8410831c32",
   "metadata": {},
   "outputs": [
    {
     "data": {
      "text/plain": [
       "239"
      ]
     },
     "execution_count": 87,
     "metadata": {},
     "output_type": "execute_result"
    }
   ],
   "source": [
    "filtred_BantryBay = height_temperature.query('station_id == \"Bantry Bay\" ')\n",
    "filtred_BantryBay.SignificantWaveHeight.isna().sum()"
   ]
  },
  {
   "cell_type": "code",
   "execution_count": 89,
   "id": "ff71fc66-0c32-403e-a0ca-78c4762087e7",
   "metadata": {},
   "outputs": [
    {
     "data": {
      "text/plain": [
       "240"
      ]
     },
     "execution_count": 89,
     "metadata": {},
     "output_type": "execute_result"
    }
   ],
   "source": [
    "Filtred_SmartWave = height_temperature.query('station_id == \"SmartBay Wave Buoy\" ')\n",
    "Filtred_SmartWave.SignificantWaveHeight.isna().sum()"
   ]
  },
  {
   "cell_type": "markdown",
   "id": "c6278f33-d76c-4213-91fc-6e44454c81bc",
   "metadata": {},
   "source": [
    "Agora vamos trabalhar apenas com a estação AMETS, devido ao N amostral ser mais robusto e completo."
   ]
  },
  {
   "cell_type": "code",
   "execution_count": 90,
   "id": "5f0ec25f-b4fd-4663-9731-3cdb85de6c1e",
   "metadata": {},
   "outputs": [
    {
     "data": {
      "text/plain": [
       "<seaborn.axisgrid.PairGrid at 0x1f389e69a00>"
      ]
     },
     "execution_count": 90,
     "metadata": {},
     "output_type": "execute_result"
    },
    {
     "data": {
      "image/png": "[encoded data removed]",
      "text/plain": [
       "<Figure size 360x360 with 6 Axes>"
      ]
     },
     "metadata": {
      "needs_background": "light"
     },
     "output_type": "display_data"
    }
   ],
   "source": [
    "sns.pairplot(filtred_AMETS)"
   ]
  },
  {
   "cell_type": "markdown",
   "id": "11df1267-03a8-4df3-b290-2631e8e0dbde",
   "metadata": {},
   "source": [
    "Vamos separar as variaveis para calcular o Coeficiente de Pearson:"
   ]
  },
  {
   "cell_type": "code",
   "execution_count": 91,
   "id": "b3677284-4033-4ff6-a321-adceaefbf267",
   "metadata": {},
   "outputs": [],
   "source": [
    "SignificantWaveHeight = filtred_AMETS['SignificantWaveHeight']\n",
    "SeaTemperature = filtred_AMETS['SeaTemperature']"
   ]
  },
  {
   "cell_type": "code",
   "execution_count": 94,
   "id": "df017e01-dbca-47af-a8da-7145b50bf53e",
   "metadata": {},
   "outputs": [
    {
     "name": "stdout",
     "output_type": "stream",
     "text": [
      "Coeficiente de Pearson 0.741\n"
     ]
    }
   ],
   "source": [
    "pearson_coeficient, p_value = pearsonr(SignificantWaveHeight, SeaTemperature)\n",
    "\n",
    "print('Coeficiente de Pearson {:0.3}'. format(pearson_coeficient))"
   ]
  },
  {
   "cell_type": "markdown",
   "id": "0877da87-2c71-440e-a22f-0b0def8d101a",
   "metadata": {},
   "source": [
    "Para plotar o gráfico : "
   ]
  },
  {
   "cell_type": "code",
   "execution_count": 98,
   "id": "f04b219c-edfe-424f-89ba-5cfa808b9168",
   "metadata": {},
   "outputs": [
    {
     "data": {
      "text/html": [
       "<div>\n",
       "<style scoped>\n",
       "    .dataframe tbody tr th:only-of-type {\n",
       "        vertical-align: middle;\n",
       "    }\n",
       "\n",
       "    .dataframe tbody tr th {\n",
       "        vertical-align: top;\n",
       "    }\n",
       "\n",
       "    .dataframe thead th {\n",
       "        text-align: right;\n",
       "    }\n",
       "</style>\n",
       "<table border=\"1\" class=\"dataframe\">\n",
       "  <thead>\n",
       "    <tr style=\"text-align: right;\">\n",
       "      <th></th>\n",
       "      <th>SignificantWaveHeight</th>\n",
       "      <th>SeaTemperature</th>\n",
       "    </tr>\n",
       "  </thead>\n",
       "  <tbody>\n",
       "    <tr>\n",
       "      <th>SignificantWaveHeight</th>\n",
       "      <td>1.000000</td>\n",
       "      <td>0.741456</td>\n",
       "    </tr>\n",
       "    <tr>\n",
       "      <th>SeaTemperature</th>\n",
       "      <td>0.741456</td>\n",
       "      <td>1.000000</td>\n",
       "    </tr>\n",
       "  </tbody>\n",
       "</table>\n",
       "</div>"
      ],
      "text/plain": [
       "                       SignificantWaveHeight  SeaTemperature\n",
       "SignificantWaveHeight               1.000000        0.741456\n",
       "SeaTemperature                      0.741456        1.000000"
      ]
     },
     "execution_count": 98,
     "metadata": {},
     "output_type": "execute_result"
    }
   ],
   "source": [
    "AMETS = filtred_AMETS[['SignificantWaveHeight', 'SeaTemperature']]\n",
    "\n",
    "correlation = AMETS.corr()\n",
    "\n",
    "correlation"
   ]
  },
  {
   "cell_type": "code",
   "execution_count": 99,
   "id": "d346bbe7-74cc-4cbc-894b-9815a88fd91a",
   "metadata": {},
   "outputs": [
    {
     "data": {
      "text/plain": [
       "<AxesSubplot:>"
      ]
     },
     "execution_count": 99,
     "metadata": {},
     "output_type": "execute_result"
    },
    {
     "data": {
      "image/png": "[encoded data removed]",
      "text/plain": [
       "<Figure size 432x288 with 2 Axes>"
      ]
     },
     "metadata": {
      "needs_background": "light"
     },
     "output_type": "display_data"
    }
   ],
   "source": [
    "sns.heatmap(correlation, xticklabels = correlation.columns.values, yticklabels = correlation.columns.values)"
   ]
  },
  {
   "cell_type": "markdown",
   "id": "c516bfd7-d041-46e8-8431-54611ea46022",
   "metadata": {},
   "source": [
    "O Coeficiente de Pearson tem valor de 0.741 demonstrando uma forte correlação positiva entre a altura das ondas e a temperatura do mar. Dessa forma, quanto maior a temperatura do mar, maior será a altura das ondas."
   ]
  }
 ],
 "metadata": {
  "kernelspec": {
   "display_name": "Python 3",
   "language": "python",
   "name": "python3"
  },
  "language_info": {
   "codemirror_mode": {
    "name": "ipython",
    "version": 3
   },
   "file_extension": ".py",
   "mimetype": "text/x-python",
   "name": "python",
   "nbconvert_exporter": "python",
   "pygments_lexer": "ipython3",
   "version": "3.8.8"
  },
  "vscode": {
   "interpreter": {
    "hash": "c85a296ad7abf9dd19014ff942749324971f1c834937c3ef01d4e07012d0f1e3"
   }
  }
 },
 "nbformat": 4,
 "nbformat_minor": 5
}
